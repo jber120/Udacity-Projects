{
 "cells": [
  {
   "cell_type": "markdown",
   "metadata": {},
   "source": [
    "# Project: Investigate a Dataset - Exploring the relationship between 2015 movies' genre(s) and revenue."
   ]
  },
  {
   "cell_type": "markdown",
   "metadata": {},
   "source": [
    "## Introduction \n",
    "\n",
    "Data Set: TMDb Movie Data\n",
    "Question: What does the genre of a movie allow us to predict about its popularity and revenue?\n",
    "\n",
    "Using this dataset, I chose to explore the relationship between genre and other variables. Specifically, I was interested in the relationship between genre, revenue, and popularity. When looking at the data, I noticed that \"revenue\" and \"revenue_adj\" had identical numbers of films that did not earn any revenue. I chose to use the film's adjusted revenue when calculating total revenue. \n",
    "\n",
    "Research Question 1: What is the total count of films for each genre? Films with mulitple genres will have each of their genres count for the total number of each genre. \n",
    "\n",
    "Research Question 2: What is the total revenue per genre? \n",
    "\n",
    "Research Quesiton 3: Which genre is the most popular according to the popularity data?\n",
    "\n",
    "By answering these questions I hope to learn if genre can be used to predict the possible success of a movie based on genre as determined by popularity and revenue.\n"
   ]
  },
  {
   "cell_type": "code",
   "execution_count": 2,
   "metadata": {},
   "outputs": [],
   "source": [
    "#Use this cell to add libraries.\n",
    "import pandas as pd\n",
    "import matplotlib.pyplot as plt\n",
    "import seaborn as sns\n",
    "import math\n",
    "from scipy import stats \n",
    "\n",
    "from matplotlib.ticker import StrMethodFormatter"
   ]
  },
  {
   "cell_type": "markdown",
   "metadata": {},
   "source": [
    "## Data Wrangling \n",
    "In this section, load the data, check for cleanliness, and then trim and clean data set for data analysis.\n",
    "\n",
    "There are over 200 movies that have repeat titles. We should clean these out of the DF so that they don't skew our data. See the data cleaning section below to view a function used to clean data.\n",
    "\n",
    "There are 2,040 unique genres, which indicates that some cleaning needs to be done. See the subsection below for cleaning details.\n",
    "\n",
    "In this section, I loaded the data and checked for cleanliness. \n",
    "\n",
    "First, I counted all values in each category to give me a general overview of the data.\n",
    "\n",
    "Next, I check for the number unique entries in each column that I wanted to focus on for my exploration purposes.\n",
    "\n",
    "Once this initial investigation was completed, I moved on to cleaning the data."
   ]
  },
  {
   "cell_type": "code",
   "execution_count": 3,
   "metadata": {},
   "outputs": [
    {
     "name": "stdout",
     "output_type": "stream",
     "text": [
      "       id    imdb_id  popularity     budget     revenue      original_title  \\\n",
      "0  135397  tt0369610   32.985763  150000000  1513528810      Jurassic World   \n",
      "1   76341  tt1392190   28.419936  150000000   378436354  Mad Max: Fury Road   \n",
      "2  262500  tt2908446   13.112507  110000000   295238201           Insurgent   \n",
      "\n",
      "                                                cast  \\\n",
      "0  Chris Pratt|Bryce Dallas Howard|Irrfan Khan|Vi...   \n",
      "1  Tom Hardy|Charlize Theron|Hugh Keays-Byrne|Nic...   \n",
      "2  Shailene Woodley|Theo James|Kate Winslet|Ansel...   \n",
      "\n",
      "                                         homepage          director  \\\n",
      "0                   http://www.jurassicworld.com/   Colin Trevorrow   \n",
      "1                     http://www.madmaxmovie.com/     George Miller   \n",
      "2  http://www.thedivergentseries.movie/#insurgent  Robert Schwentke   \n",
      "\n",
      "                      tagline  ...  \\\n",
      "0           The park is open.  ...   \n",
      "1          What a Lovely Day.  ...   \n",
      "2  One Choice Can Destroy You  ...   \n",
      "\n",
      "                                            overview runtime  \\\n",
      "0  Twenty-two years after the events of Jurassic ...     124   \n",
      "1  An apocalyptic story set in the furthest reach...     120   \n",
      "2  Beatrice Prior must confront her inner demons ...     119   \n",
      "\n",
      "                                      genres  \\\n",
      "0  Action|Adventure|Science Fiction|Thriller   \n",
      "1  Action|Adventure|Science Fiction|Thriller   \n",
      "2         Adventure|Science Fiction|Thriller   \n",
      "\n",
      "                                production_companies release_date vote_count  \\\n",
      "0  Universal Studios|Amblin Entertainment|Legenda...     6/9/2015       5562   \n",
      "1  Village Roadshow Pictures|Kennedy Miller Produ...    5/13/2015       6185   \n",
      "2  Summit Entertainment|Mandeville Films|Red Wago...    3/18/2015       2480   \n",
      "\n",
      "   vote_average  release_year   budget_adj   revenue_adj  \n",
      "0           6.5          2015  137999939.3  1.392446e+09  \n",
      "1           7.1          2015  137999939.3  3.481613e+08  \n",
      "2           6.3          2015  101199955.5  2.716190e+08  \n",
      "\n",
      "[3 rows x 21 columns]\n"
     ]
    }
   ],
   "source": [
    "TMDb_DF = pd.DataFrame\n",
    "TMDb_DF = pd.read_csv('tmdb-movies.csv')\n",
    "print(TMDb_DF.head(n=3))"
   ]
  },
  {
   "cell_type": "code",
   "execution_count": 4,
   "metadata": {},
   "outputs": [
    {
     "name": "stdout",
     "output_type": "stream",
     "text": [
      "id                      10866\n",
      "imdb_id                 10856\n",
      "popularity              10866\n",
      "budget                  10866\n",
      "revenue                 10866\n",
      "original_title          10866\n",
      "cast                    10790\n",
      "homepage                 2936\n",
      "director                10822\n",
      "tagline                  8042\n",
      "keywords                 9373\n",
      "overview                10862\n",
      "runtime                 10866\n",
      "genres                  10843\n",
      "production_companies     9836\n",
      "release_date            10866\n",
      "vote_count              10866\n",
      "vote_average            10866\n",
      "release_year            10866\n",
      "budget_adj              10866\n",
      "revenue_adj             10866\n",
      "dtype: int64\n"
     ]
    }
   ],
   "source": [
    "#Counts total rows before cleaning.\n",
    "\n",
    "count_all = TMDb_DF.count()\n",
    "print(count_all)"
   ]
  },
  {
   "cell_type": "code",
   "execution_count": 5,
   "metadata": {},
   "outputs": [
    {
     "name": "stdout",
     "output_type": "stream",
     "text": [
      "Unique  id   10865\n",
      "Unique  original_title   10571\n",
      "Unique  genres   2040\n",
      "Unique  revenue   4702\n",
      "Unique  revenue_adj   4840\n"
     ]
    }
   ],
   "source": [
    "#Check for unique values.\n",
    "\n",
    "def unique_entries(name):\n",
    "    count_unique = 0\n",
    "    checked = []\n",
    "    for i in range(len(TMDb_DF[name])):\n",
    "        if TMDb_DF[name][i] not in checked:\n",
    "            checked.append(TMDb_DF[name][i])\n",
    "            count_unique+=1\n",
    "    print('Unique ', name, ' ', count_unique)\n",
    "        \n",
    "unique_id=unique_entries('id')\n",
    "        \n",
    "unique_title=unique_entries('original_title')\n",
    "\n",
    "unique_genres=unique_entries('genres')\n",
    "\n",
    "unique_revenue=unique_entries('revenue')\n",
    "\n",
    "unique_adjusted_revenue=unique_entries('revenue_adj')\n"
   ]
  },
  {
   "cell_type": "markdown",
   "metadata": {},
   "source": [
    "### Data Cleaning \n",
    "After the data wrangling phase I used the feedback from my investigation to make the data more usable for muy purposes. To do this, I used the five following steps. \n",
    "\n",
    "Step 1: A funciton was created to separate the genres for each film. This will allow the data to be easier to use for calculations. I separated each genre in the original dataframe, which listed them as one entity. This will help me know if each movie belongs within a genre because it will show \"Action\" as a separate entity, rather than \"Action/Adventure/ScienceFiction/Thriller\" being the value. \n",
    "\n",
    "Step 2: A function was used to remove rows for duplicate movie titles. This will provide a more accurate measures as well as remove unnecessary data from processing. \n",
    "\n",
    "Step 3: Null values and 0s were removed  for adjusted revenue and revenue since my goal is to explore the relationship between adjusted revenue and genre. \n",
    "\n",
    "Step 4: A histogram was created for adjusted revenue to see the distribution in order for me to identify outliers and get a general picture of the data. \n",
    "\n",
    "Step 5: A histogram was created for popularity to see the distribution in order for me to identify outliers and get a general picture of the data.\n",
    "\n",
    "Step 6: Outliers were removed for adjusted revenue and popularity to provide a more accurate analysis for the research questions in the next section..\n",
    "\n",
    "Step 7: I created histograms for the updated series for adjusted revenue and popularity, which had the data removed, provide a snapshot of the distribution of data in order to double check that outliers have been removed. "
   ]
  },
  {
   "cell_type": "code",
   "execution_count": 6,
   "metadata": {},
   "outputs": [
    {
     "name": "stdout",
     "output_type": "stream",
     "text": [
      "genres0\n",
      "genres1\n",
      "genres2\n",
      "genres3\n",
      "genres4\n",
      "           genres0          genres1          genres2   genres3 genres4\n",
      "0           Action        Adventure  Science Fiction  Thriller    None\n",
      "1           Action        Adventure  Science Fiction  Thriller    None\n",
      "2        Adventure  Science Fiction         Thriller      None    None\n",
      "3           Action        Adventure  Science Fiction   Fantasy    None\n",
      "4           Action            Crime         Thriller      None    None\n",
      "...            ...              ...              ...       ...     ...\n",
      "10861  Documentary             None             None      None    None\n",
      "10862       Action        Adventure            Drama      None    None\n",
      "10863      Mystery           Comedy             None      None    None\n",
      "10864       Action           Comedy             None      None    None\n",
      "10865       Horror             None             None      None    None\n",
      "\n",
      "[10866 rows x 5 columns]\n"
     ]
    }
   ],
   "source": [
    "# Step 1 function to separate the genres in the TMDb_DF\n",
    "def split_fucntion(string_name):\n",
    "    TMDb_adj = TMDb_DF[string_name].str.split('|', expand = True)\n",
    "    num_col = len(TMDb_adj.columns)\n",
    "    list_column = []\n",
    "    for i in range(num_col):\n",
    "        print(string_name+str(i))\n",
    "        list_column.append(string_name+str(i))\n",
    "    TMDb_adj.columns = list_column\n",
    "    return TMDb_adj\n",
    "\n",
    "TMDb_genre_split = split_fucntion('genres')\n",
    "print(TMDb_genre_split)"
   ]
  },
  {
   "cell_type": "code",
   "execution_count": 7,
   "metadata": {},
   "outputs": [
    {
     "name": "stdout",
     "output_type": "stream",
     "text": [
      "id                      10571\n",
      "imdb_id                 10561\n",
      "popularity              10571\n",
      "budget                  10571\n",
      "revenue                 10571\n",
      "original_title          10571\n",
      "cast                    10497\n",
      "homepage                 2894\n",
      "director                10528\n",
      "tagline                  7799\n",
      "keywords                 9104\n",
      "overview                10567\n",
      "runtime                 10571\n",
      "genres                  10548\n",
      "production_companies     9552\n",
      "release_date            10571\n",
      "vote_count              10571\n",
      "vote_average            10571\n",
      "release_year            10571\n",
      "budget_adj              10571\n",
      "revenue_adj             10571\n",
      "dtype: int64\n"
     ]
    }
   ],
   "source": [
    "#Step 2 - Create funciton to drop duplicates from columns. Use it for movie titles. df.drop_duplicates(subset=['brand'])\n",
    "def duplicates_drop(name):\n",
    "    new_DF = TMDb_DF.drop_duplicates(subset=[name])\n",
    "    return(new_DF)\n",
    "\n",
    "Unique_Titles_DF=duplicates_drop('original_title')\n",
    "count_all = Unique_Titles_DF.count()\n",
    "print(count_all)"
   ]
  },
  {
   "cell_type": "code",
   "execution_count": 8,
   "metadata": {},
   "outputs": [
    {
     "data": {
      "text/plain": [
       "id                         0\n",
       "imdb_id                   10\n",
       "popularity                 0\n",
       "budget                     0\n",
       "revenue                    0\n",
       "original_title             0\n",
       "cast                      74\n",
       "homepage                7677\n",
       "director                  43\n",
       "tagline                 2772\n",
       "keywords                1467\n",
       "overview                   4\n",
       "runtime                    0\n",
       "genres                    23\n",
       "production_companies    1019\n",
       "release_date               0\n",
       "vote_count                 0\n",
       "vote_average               0\n",
       "release_year               0\n",
       "budget_adj                 0\n",
       "revenue_adj                0\n",
       "dtype: int64"
      ]
     },
     "execution_count": 8,
     "metadata": {},
     "output_type": "execute_result"
    }
   ],
   "source": [
    "#Step 3: Null values and 0s were removed  for adjusted revenue. \n",
    "Unique_Titles_DF.isna().sum()"
   ]
  },
  {
   "cell_type": "code",
   "execution_count": 9,
   "metadata": {},
   "outputs": [
    {
     "data": {
      "text/html": [
       "<div>\n",
       "<style scoped>\n",
       "    .dataframe tbody tr th:only-of-type {\n",
       "        vertical-align: middle;\n",
       "    }\n",
       "\n",
       "    .dataframe tbody tr th {\n",
       "        vertical-align: top;\n",
       "    }\n",
       "\n",
       "    .dataframe thead th {\n",
       "        text-align: right;\n",
       "    }\n",
       "</style>\n",
       "<table border=\"1\" class=\"dataframe\">\n",
       "  <thead>\n",
       "    <tr style=\"text-align: right;\">\n",
       "      <th></th>\n",
       "      <th>id</th>\n",
       "      <th>imdb_id</th>\n",
       "      <th>popularity</th>\n",
       "      <th>budget</th>\n",
       "      <th>revenue</th>\n",
       "      <th>original_title</th>\n",
       "      <th>cast</th>\n",
       "      <th>homepage</th>\n",
       "      <th>director</th>\n",
       "      <th>tagline</th>\n",
       "      <th>...</th>\n",
       "      <th>overview</th>\n",
       "      <th>runtime</th>\n",
       "      <th>genres</th>\n",
       "      <th>production_companies</th>\n",
       "      <th>release_date</th>\n",
       "      <th>vote_count</th>\n",
       "      <th>vote_average</th>\n",
       "      <th>release_year</th>\n",
       "      <th>budget_adj</th>\n",
       "      <th>revenue_adj</th>\n",
       "    </tr>\n",
       "  </thead>\n",
       "  <tbody>\n",
       "    <tr>\n",
       "      <th>0</th>\n",
       "      <td>135397</td>\n",
       "      <td>tt0369610</td>\n",
       "      <td>32.985763</td>\n",
       "      <td>150000000</td>\n",
       "      <td>1513528810</td>\n",
       "      <td>Jurassic World</td>\n",
       "      <td>Chris Pratt|Bryce Dallas Howard|Irrfan Khan|Vi...</td>\n",
       "      <td>http://www.jurassicworld.com/</td>\n",
       "      <td>Colin Trevorrow</td>\n",
       "      <td>The park is open.</td>\n",
       "      <td>...</td>\n",
       "      <td>Twenty-two years after the events of Jurassic ...</td>\n",
       "      <td>124</td>\n",
       "      <td>Action|Adventure|Science Fiction|Thriller</td>\n",
       "      <td>Universal Studios|Amblin Entertainment|Legenda...</td>\n",
       "      <td>6/9/2015</td>\n",
       "      <td>5562</td>\n",
       "      <td>6.5</td>\n",
       "      <td>2015</td>\n",
       "      <td>1.379999e+08</td>\n",
       "      <td>1.392446e+09</td>\n",
       "    </tr>\n",
       "    <tr>\n",
       "      <th>1</th>\n",
       "      <td>76341</td>\n",
       "      <td>tt1392190</td>\n",
       "      <td>28.419936</td>\n",
       "      <td>150000000</td>\n",
       "      <td>378436354</td>\n",
       "      <td>Mad Max: Fury Road</td>\n",
       "      <td>Tom Hardy|Charlize Theron|Hugh Keays-Byrne|Nic...</td>\n",
       "      <td>http://www.madmaxmovie.com/</td>\n",
       "      <td>George Miller</td>\n",
       "      <td>What a Lovely Day.</td>\n",
       "      <td>...</td>\n",
       "      <td>An apocalyptic story set in the furthest reach...</td>\n",
       "      <td>120</td>\n",
       "      <td>Action|Adventure|Science Fiction|Thriller</td>\n",
       "      <td>Village Roadshow Pictures|Kennedy Miller Produ...</td>\n",
       "      <td>5/13/2015</td>\n",
       "      <td>6185</td>\n",
       "      <td>7.1</td>\n",
       "      <td>2015</td>\n",
       "      <td>1.379999e+08</td>\n",
       "      <td>3.481613e+08</td>\n",
       "    </tr>\n",
       "    <tr>\n",
       "      <th>2</th>\n",
       "      <td>262500</td>\n",
       "      <td>tt2908446</td>\n",
       "      <td>13.112507</td>\n",
       "      <td>110000000</td>\n",
       "      <td>295238201</td>\n",
       "      <td>Insurgent</td>\n",
       "      <td>Shailene Woodley|Theo James|Kate Winslet|Ansel...</td>\n",
       "      <td>http://www.thedivergentseries.movie/#insurgent</td>\n",
       "      <td>Robert Schwentke</td>\n",
       "      <td>One Choice Can Destroy You</td>\n",
       "      <td>...</td>\n",
       "      <td>Beatrice Prior must confront her inner demons ...</td>\n",
       "      <td>119</td>\n",
       "      <td>Adventure|Science Fiction|Thriller</td>\n",
       "      <td>Summit Entertainment|Mandeville Films|Red Wago...</td>\n",
       "      <td>3/18/2015</td>\n",
       "      <td>2480</td>\n",
       "      <td>6.3</td>\n",
       "      <td>2015</td>\n",
       "      <td>1.012000e+08</td>\n",
       "      <td>2.716190e+08</td>\n",
       "    </tr>\n",
       "    <tr>\n",
       "      <th>3</th>\n",
       "      <td>140607</td>\n",
       "      <td>tt2488496</td>\n",
       "      <td>11.173104</td>\n",
       "      <td>200000000</td>\n",
       "      <td>2068178225</td>\n",
       "      <td>Star Wars: The Force Awakens</td>\n",
       "      <td>Harrison Ford|Mark Hamill|Carrie Fisher|Adam D...</td>\n",
       "      <td>http://www.starwars.com/films/star-wars-episod...</td>\n",
       "      <td>J.J. Abrams</td>\n",
       "      <td>Every generation has a story.</td>\n",
       "      <td>...</td>\n",
       "      <td>Thirty years after defeating the Galactic Empi...</td>\n",
       "      <td>136</td>\n",
       "      <td>Action|Adventure|Science Fiction|Fantasy</td>\n",
       "      <td>Lucasfilm|Truenorth Productions|Bad Robot</td>\n",
       "      <td>12/15/2015</td>\n",
       "      <td>5292</td>\n",
       "      <td>7.5</td>\n",
       "      <td>2015</td>\n",
       "      <td>1.839999e+08</td>\n",
       "      <td>1.902723e+09</td>\n",
       "    </tr>\n",
       "    <tr>\n",
       "      <th>4</th>\n",
       "      <td>168259</td>\n",
       "      <td>tt2820852</td>\n",
       "      <td>9.335014</td>\n",
       "      <td>190000000</td>\n",
       "      <td>1506249360</td>\n",
       "      <td>Furious 7</td>\n",
       "      <td>Vin Diesel|Paul Walker|Jason Statham|Michelle ...</td>\n",
       "      <td>http://www.furious7.com/</td>\n",
       "      <td>James Wan</td>\n",
       "      <td>Vengeance Hits Home</td>\n",
       "      <td>...</td>\n",
       "      <td>Deckard Shaw seeks revenge against Dominic Tor...</td>\n",
       "      <td>137</td>\n",
       "      <td>Action|Crime|Thriller</td>\n",
       "      <td>Universal Pictures|Original Film|Media Rights ...</td>\n",
       "      <td>4/1/2015</td>\n",
       "      <td>2947</td>\n",
       "      <td>7.3</td>\n",
       "      <td>2015</td>\n",
       "      <td>1.747999e+08</td>\n",
       "      <td>1.385749e+09</td>\n",
       "    </tr>\n",
       "    <tr>\n",
       "      <th>...</th>\n",
       "      <td>...</td>\n",
       "      <td>...</td>\n",
       "      <td>...</td>\n",
       "      <td>...</td>\n",
       "      <td>...</td>\n",
       "      <td>...</td>\n",
       "      <td>...</td>\n",
       "      <td>...</td>\n",
       "      <td>...</td>\n",
       "      <td>...</td>\n",
       "      <td>...</td>\n",
       "      <td>...</td>\n",
       "      <td>...</td>\n",
       "      <td>...</td>\n",
       "      <td>...</td>\n",
       "      <td>...</td>\n",
       "      <td>...</td>\n",
       "      <td>...</td>\n",
       "      <td>...</td>\n",
       "      <td>...</td>\n",
       "      <td>...</td>\n",
       "    </tr>\n",
       "    <tr>\n",
       "      <th>10861</th>\n",
       "      <td>21</td>\n",
       "      <td>tt0060371</td>\n",
       "      <td>0.080598</td>\n",
       "      <td>0</td>\n",
       "      <td>0</td>\n",
       "      <td>The Endless Summer</td>\n",
       "      <td>Michael Hynson|Robert August|Lord 'Tally Ho' B...</td>\n",
       "      <td>NaN</td>\n",
       "      <td>Bruce Brown</td>\n",
       "      <td>NaN</td>\n",
       "      <td>...</td>\n",
       "      <td>The Endless Summer, by Bruce Brown, is one of ...</td>\n",
       "      <td>95</td>\n",
       "      <td>Documentary</td>\n",
       "      <td>Bruce Brown Films</td>\n",
       "      <td>6/15/1966</td>\n",
       "      <td>11</td>\n",
       "      <td>7.4</td>\n",
       "      <td>1966</td>\n",
       "      <td>0.000000e+00</td>\n",
       "      <td>0.000000e+00</td>\n",
       "    </tr>\n",
       "    <tr>\n",
       "      <th>10862</th>\n",
       "      <td>20379</td>\n",
       "      <td>tt0060472</td>\n",
       "      <td>0.065543</td>\n",
       "      <td>0</td>\n",
       "      <td>0</td>\n",
       "      <td>Grand Prix</td>\n",
       "      <td>James Garner|Eva Marie Saint|Yves Montand|Tosh...</td>\n",
       "      <td>NaN</td>\n",
       "      <td>John Frankenheimer</td>\n",
       "      <td>Cinerama sweeps YOU into a drama of speed and ...</td>\n",
       "      <td>...</td>\n",
       "      <td>Grand Prix driver Pete Aron is fired by his te...</td>\n",
       "      <td>176</td>\n",
       "      <td>Action|Adventure|Drama</td>\n",
       "      <td>Cherokee Productions|Joel Productions|Douglas ...</td>\n",
       "      <td>12/21/1966</td>\n",
       "      <td>20</td>\n",
       "      <td>5.7</td>\n",
       "      <td>1966</td>\n",
       "      <td>0.000000e+00</td>\n",
       "      <td>0.000000e+00</td>\n",
       "    </tr>\n",
       "    <tr>\n",
       "      <th>10863</th>\n",
       "      <td>39768</td>\n",
       "      <td>tt0060161</td>\n",
       "      <td>0.065141</td>\n",
       "      <td>0</td>\n",
       "      <td>0</td>\n",
       "      <td>Beregis Avtomobilya</td>\n",
       "      <td>Innokentiy Smoktunovskiy|Oleg Efremov|Georgi Z...</td>\n",
       "      <td>NaN</td>\n",
       "      <td>Eldar Ryazanov</td>\n",
       "      <td>NaN</td>\n",
       "      <td>...</td>\n",
       "      <td>An insurance agent who moonlights as a carthie...</td>\n",
       "      <td>94</td>\n",
       "      <td>Mystery|Comedy</td>\n",
       "      <td>Mosfilm</td>\n",
       "      <td>1/1/1966</td>\n",
       "      <td>11</td>\n",
       "      <td>6.5</td>\n",
       "      <td>1966</td>\n",
       "      <td>0.000000e+00</td>\n",
       "      <td>0.000000e+00</td>\n",
       "    </tr>\n",
       "    <tr>\n",
       "      <th>10864</th>\n",
       "      <td>21449</td>\n",
       "      <td>tt0061177</td>\n",
       "      <td>0.064317</td>\n",
       "      <td>0</td>\n",
       "      <td>0</td>\n",
       "      <td>What's Up, Tiger Lily?</td>\n",
       "      <td>Tatsuya Mihashi|Akiko Wakabayashi|Mie Hama|Joh...</td>\n",
       "      <td>NaN</td>\n",
       "      <td>Woody Allen</td>\n",
       "      <td>WOODY ALLEN STRIKES BACK!</td>\n",
       "      <td>...</td>\n",
       "      <td>In comic Woody Allen's film debut, he took the...</td>\n",
       "      <td>80</td>\n",
       "      <td>Action|Comedy</td>\n",
       "      <td>Benedict Pictures Corp.</td>\n",
       "      <td>11/2/1966</td>\n",
       "      <td>22</td>\n",
       "      <td>5.4</td>\n",
       "      <td>1966</td>\n",
       "      <td>0.000000e+00</td>\n",
       "      <td>0.000000e+00</td>\n",
       "    </tr>\n",
       "    <tr>\n",
       "      <th>10865</th>\n",
       "      <td>22293</td>\n",
       "      <td>tt0060666</td>\n",
       "      <td>0.035919</td>\n",
       "      <td>19000</td>\n",
       "      <td>0</td>\n",
       "      <td>Manos: The Hands of Fate</td>\n",
       "      <td>Harold P. Warren|Tom Neyman|John Reynolds|Dian...</td>\n",
       "      <td>NaN</td>\n",
       "      <td>Harold P. Warren</td>\n",
       "      <td>It's Shocking! It's Beyond Your Imagination!</td>\n",
       "      <td>...</td>\n",
       "      <td>A family gets lost on the road and stumbles up...</td>\n",
       "      <td>74</td>\n",
       "      <td>Horror</td>\n",
       "      <td>Norm-Iris</td>\n",
       "      <td>11/15/1966</td>\n",
       "      <td>15</td>\n",
       "      <td>1.5</td>\n",
       "      <td>1966</td>\n",
       "      <td>1.276423e+05</td>\n",
       "      <td>0.000000e+00</td>\n",
       "    </tr>\n",
       "  </tbody>\n",
       "</table>\n",
       "<p>10571 rows × 21 columns</p>\n",
       "</div>"
      ],
      "text/plain": [
       "           id    imdb_id  popularity     budget     revenue  \\\n",
       "0      135397  tt0369610   32.985763  150000000  1513528810   \n",
       "1       76341  tt1392190   28.419936  150000000   378436354   \n",
       "2      262500  tt2908446   13.112507  110000000   295238201   \n",
       "3      140607  tt2488496   11.173104  200000000  2068178225   \n",
       "4      168259  tt2820852    9.335014  190000000  1506249360   \n",
       "...       ...        ...         ...        ...         ...   \n",
       "10861      21  tt0060371    0.080598          0           0   \n",
       "10862   20379  tt0060472    0.065543          0           0   \n",
       "10863   39768  tt0060161    0.065141          0           0   \n",
       "10864   21449  tt0061177    0.064317          0           0   \n",
       "10865   22293  tt0060666    0.035919      19000           0   \n",
       "\n",
       "                     original_title  \\\n",
       "0                    Jurassic World   \n",
       "1                Mad Max: Fury Road   \n",
       "2                         Insurgent   \n",
       "3      Star Wars: The Force Awakens   \n",
       "4                         Furious 7   \n",
       "...                             ...   \n",
       "10861            The Endless Summer   \n",
       "10862                    Grand Prix   \n",
       "10863           Beregis Avtomobilya   \n",
       "10864        What's Up, Tiger Lily?   \n",
       "10865      Manos: The Hands of Fate   \n",
       "\n",
       "                                                    cast  \\\n",
       "0      Chris Pratt|Bryce Dallas Howard|Irrfan Khan|Vi...   \n",
       "1      Tom Hardy|Charlize Theron|Hugh Keays-Byrne|Nic...   \n",
       "2      Shailene Woodley|Theo James|Kate Winslet|Ansel...   \n",
       "3      Harrison Ford|Mark Hamill|Carrie Fisher|Adam D...   \n",
       "4      Vin Diesel|Paul Walker|Jason Statham|Michelle ...   \n",
       "...                                                  ...   \n",
       "10861  Michael Hynson|Robert August|Lord 'Tally Ho' B...   \n",
       "10862  James Garner|Eva Marie Saint|Yves Montand|Tosh...   \n",
       "10863  Innokentiy Smoktunovskiy|Oleg Efremov|Georgi Z...   \n",
       "10864  Tatsuya Mihashi|Akiko Wakabayashi|Mie Hama|Joh...   \n",
       "10865  Harold P. Warren|Tom Neyman|John Reynolds|Dian...   \n",
       "\n",
       "                                                homepage            director  \\\n",
       "0                          http://www.jurassicworld.com/     Colin Trevorrow   \n",
       "1                            http://www.madmaxmovie.com/       George Miller   \n",
       "2         http://www.thedivergentseries.movie/#insurgent    Robert Schwentke   \n",
       "3      http://www.starwars.com/films/star-wars-episod...         J.J. Abrams   \n",
       "4                               http://www.furious7.com/           James Wan   \n",
       "...                                                  ...                 ...   \n",
       "10861                                                NaN         Bruce Brown   \n",
       "10862                                                NaN  John Frankenheimer   \n",
       "10863                                                NaN      Eldar Ryazanov   \n",
       "10864                                                NaN         Woody Allen   \n",
       "10865                                                NaN    Harold P. Warren   \n",
       "\n",
       "                                                 tagline  ...  \\\n",
       "0                                      The park is open.  ...   \n",
       "1                                     What a Lovely Day.  ...   \n",
       "2                             One Choice Can Destroy You  ...   \n",
       "3                          Every generation has a story.  ...   \n",
       "4                                    Vengeance Hits Home  ...   \n",
       "...                                                  ...  ...   \n",
       "10861                                                NaN  ...   \n",
       "10862  Cinerama sweeps YOU into a drama of speed and ...  ...   \n",
       "10863                                                NaN  ...   \n",
       "10864                          WOODY ALLEN STRIKES BACK!  ...   \n",
       "10865       It's Shocking! It's Beyond Your Imagination!  ...   \n",
       "\n",
       "                                                overview runtime  \\\n",
       "0      Twenty-two years after the events of Jurassic ...     124   \n",
       "1      An apocalyptic story set in the furthest reach...     120   \n",
       "2      Beatrice Prior must confront her inner demons ...     119   \n",
       "3      Thirty years after defeating the Galactic Empi...     136   \n",
       "4      Deckard Shaw seeks revenge against Dominic Tor...     137   \n",
       "...                                                  ...     ...   \n",
       "10861  The Endless Summer, by Bruce Brown, is one of ...      95   \n",
       "10862  Grand Prix driver Pete Aron is fired by his te...     176   \n",
       "10863  An insurance agent who moonlights as a carthie...      94   \n",
       "10864  In comic Woody Allen's film debut, he took the...      80   \n",
       "10865  A family gets lost on the road and stumbles up...      74   \n",
       "\n",
       "                                          genres  \\\n",
       "0      Action|Adventure|Science Fiction|Thriller   \n",
       "1      Action|Adventure|Science Fiction|Thriller   \n",
       "2             Adventure|Science Fiction|Thriller   \n",
       "3       Action|Adventure|Science Fiction|Fantasy   \n",
       "4                          Action|Crime|Thriller   \n",
       "...                                          ...   \n",
       "10861                                Documentary   \n",
       "10862                     Action|Adventure|Drama   \n",
       "10863                             Mystery|Comedy   \n",
       "10864                              Action|Comedy   \n",
       "10865                                     Horror   \n",
       "\n",
       "                                    production_companies release_date  \\\n",
       "0      Universal Studios|Amblin Entertainment|Legenda...     6/9/2015   \n",
       "1      Village Roadshow Pictures|Kennedy Miller Produ...    5/13/2015   \n",
       "2      Summit Entertainment|Mandeville Films|Red Wago...    3/18/2015   \n",
       "3              Lucasfilm|Truenorth Productions|Bad Robot   12/15/2015   \n",
       "4      Universal Pictures|Original Film|Media Rights ...     4/1/2015   \n",
       "...                                                  ...          ...   \n",
       "10861                                  Bruce Brown Films    6/15/1966   \n",
       "10862  Cherokee Productions|Joel Productions|Douglas ...   12/21/1966   \n",
       "10863                                            Mosfilm     1/1/1966   \n",
       "10864                            Benedict Pictures Corp.    11/2/1966   \n",
       "10865                                          Norm-Iris   11/15/1966   \n",
       "\n",
       "      vote_count  vote_average  release_year    budget_adj   revenue_adj  \n",
       "0           5562           6.5          2015  1.379999e+08  1.392446e+09  \n",
       "1           6185           7.1          2015  1.379999e+08  3.481613e+08  \n",
       "2           2480           6.3          2015  1.012000e+08  2.716190e+08  \n",
       "3           5292           7.5          2015  1.839999e+08  1.902723e+09  \n",
       "4           2947           7.3          2015  1.747999e+08  1.385749e+09  \n",
       "...          ...           ...           ...           ...           ...  \n",
       "10861         11           7.4          1966  0.000000e+00  0.000000e+00  \n",
       "10862         20           5.7          1966  0.000000e+00  0.000000e+00  \n",
       "10863         11           6.5          1966  0.000000e+00  0.000000e+00  \n",
       "10864         22           5.4          1966  0.000000e+00  0.000000e+00  \n",
       "10865         15           1.5          1966  1.276423e+05  0.000000e+00  \n",
       "\n",
       "[10571 rows x 21 columns]"
      ]
     },
     "execution_count": 9,
     "metadata": {},
     "output_type": "execute_result"
    }
   ],
   "source": [
    "#Drop the missing values from the previous count of missing values specifically for revenue, \n",
    "#since this is  the field that I will be focusing on.\n",
    "\n",
    "Unique_Titles_DF.dropna(axis = 0, how = 'any', subset = ['revenue_adj'])"
   ]
  },
  {
   "cell_type": "code",
   "execution_count": 12,
   "metadata": {},
   "outputs": [
    {
     "data": {
      "text/plain": [
       "Text(0.5, 1.0, 'Adjusted Revenue Histogram')"
      ]
     },
     "execution_count": 12,
     "metadata": {},
     "output_type": "execute_result"
    },
    {
     "data": {
      "image/png": "[encoded data removed]",
      "text/plain": [
       "<Figure size 432x288 with 1 Axes>"
      ]
     },
     "metadata": {
      "needs_background": "light"
     },
     "output_type": "display_data"
    }
   ],
   "source": [
    "#Step 4: A histogram was created for a series containing just adjusted revenue to see the distribution.\n",
    "rev_hist_data = pd.Series(Unique_Titles_DF['revenue_adj'])\n",
    "rev_hist_data.hist(bins = 100, legend = True)\n",
    "plt.xlabel(\"Adjusted Revenue in Billions\", fontsize= 15)\n",
    "plt.ylabel(\"Count\", fontsize= 15)\n",
    "plt.xlim([0.0, 0.8e9])\n",
    "plt.title(\"Adjusted Revenue Histogram\")\n",
    "\n"
   ]
  },
  {
   "cell_type": "markdown",
   "metadata": {},
   "source": [
    "This historgram shows a wide distribution with a lot of outliers. Calculating the z-score and removing them will help provide clearer pictures of what trends exist."
   ]
  },
  {
   "cell_type": "code",
   "execution_count": 13,
   "metadata": {},
   "outputs": [
    {
     "data": {
      "text/plain": [
       "Text(0.5, 1.0, 'Popularity Histogram')"
      ]
     },
     "execution_count": 13,
     "metadata": {},
     "output_type": "execute_result"
    },
    {
     "data": {
      "image/png": "[encoded data removed]",
      "text/plain": [
       "<Figure size 432x288 with 1 Axes>"
      ]
     },
     "metadata": {
      "needs_background": "light"
     },
     "output_type": "display_data"
    }
   ],
   "source": [
    "#Step 5: A histogram was created for popularity to see the distribution in order for me to identify outliers \n",
    "#and get a general picture of the data.\n",
    "\n",
    "rev_hist_data = pd.Series(Unique_Titles_DF['popularity'])\n",
    "rev_hist_data.hist(bins = 100, legend = True)\n",
    "plt.xlabel(\"Popularity\", fontsize= 15)\n",
    "plt.ylabel(\"Count\", fontsize= 15)\n",
    "plt.xlim([0.0, 8])\n",
    "plt.title(\"Popularity Histogram\")"
   ]
  },
  {
   "cell_type": "markdown",
   "metadata": {},
   "source": [
    "Similar to the histogram showing the distribution of adjusted revenue, the popularity is clustered around one end, with several outliers. Calcuating the z-score will allow me to remove them to find more accurate trends in the data."
   ]
  },
  {
   "cell_type": "code",
   "execution_count": 11,
   "metadata": {},
   "outputs": [
    {
     "name": "stdout",
     "output_type": "stream",
     "text": [
      "       id    imdb_id  popularity     budget     revenue  \\\n",
      "0  135397  tt0369610   32.985763  150000000  1513528810   \n",
      "1   76341  tt1392190   28.419936  150000000   378436354   \n",
      "2  262500  tt2908446   13.112507  110000000   295238201   \n",
      "3  140607  tt2488496   11.173104  200000000  2068178225   \n",
      "4  168259  tt2820852    9.335014  190000000  1506249360   \n",
      "\n",
      "                 original_title  \\\n",
      "0                Jurassic World   \n",
      "1            Mad Max: Fury Road   \n",
      "2                     Insurgent   \n",
      "3  Star Wars: The Force Awakens   \n",
      "4                     Furious 7   \n",
      "\n",
      "                                                cast  \\\n",
      "0  Chris Pratt|Bryce Dallas Howard|Irrfan Khan|Vi...   \n",
      "1  Tom Hardy|Charlize Theron|Hugh Keays-Byrne|Nic...   \n",
      "2  Shailene Woodley|Theo James|Kate Winslet|Ansel...   \n",
      "3  Harrison Ford|Mark Hamill|Carrie Fisher|Adam D...   \n",
      "4  Vin Diesel|Paul Walker|Jason Statham|Michelle ...   \n",
      "\n",
      "                                            homepage          director  \\\n",
      "0                      http://www.jurassicworld.com/   Colin Trevorrow   \n",
      "1                        http://www.madmaxmovie.com/     George Miller   \n",
      "2     http://www.thedivergentseries.movie/#insurgent  Robert Schwentke   \n",
      "3  http://www.starwars.com/films/star-wars-episod...       J.J. Abrams   \n",
      "4                           http://www.furious7.com/         James Wan   \n",
      "\n",
      "                         tagline  ...  \\\n",
      "0              The park is open.  ...   \n",
      "1             What a Lovely Day.  ...   \n",
      "2     One Choice Can Destroy You  ...   \n",
      "3  Every generation has a story.  ...   \n",
      "4            Vengeance Hits Home  ...   \n",
      "\n",
      "                                      genres  \\\n",
      "0  Action|Adventure|Science Fiction|Thriller   \n",
      "1  Action|Adventure|Science Fiction|Thriller   \n",
      "2         Adventure|Science Fiction|Thriller   \n",
      "3   Action|Adventure|Science Fiction|Fantasy   \n",
      "4                      Action|Crime|Thriller   \n",
      "\n",
      "                                production_companies  release_date vote_count  \\\n",
      "0  Universal Studios|Amblin Entertainment|Legenda...      6/9/2015       5562   \n",
      "1  Village Roadshow Pictures|Kennedy Miller Produ...     5/13/2015       6185   \n",
      "2  Summit Entertainment|Mandeville Films|Red Wago...     3/18/2015       2480   \n",
      "3          Lucasfilm|Truenorth Productions|Bad Robot    12/15/2015       5292   \n",
      "4  Universal Pictures|Original Film|Media Rights ...      4/1/2015       2947   \n",
      "\n",
      "  vote_average release_year   budget_adj   revenue_adj  rev_adj_zcore  \\\n",
      "0          6.5         2015  137999939.3  1.392446e+09       9.283686   \n",
      "1          7.1         2015  137999939.3  3.481613e+08       2.055626   \n",
      "2          6.3         2015  101199955.5  2.716190e+08       1.525836   \n",
      "3          7.5         2015  183999919.0  1.902723e+09      12.815591   \n",
      "4          7.3         2015  174799923.1  1.385749e+09       9.237332   \n",
      "\n",
      "   popularity_zcore  \n",
      "0         32.096382  \n",
      "1         27.564639  \n",
      "2         12.371479  \n",
      "3         10.446554  \n",
      "4          8.622185  \n",
      "\n",
      "[5 rows x 23 columns]\n"
     ]
    },
    {
     "name": "stderr",
     "output_type": "stream",
     "text": [
      "<ipython-input-11-9e425f3609ff>:6: SettingWithCopyWarning: \n",
      "A value is trying to be set on a copy of a slice from a DataFrame.\n",
      "Try using .loc[row_indexer,col_indexer] = value instead\n",
      "\n",
      "See the caveats in the documentation: https://pandas.pydata.org/pandas-docs/stable/user_guide/indexing.html#returning-a-view-versus-a-copy\n",
      "  Unique_Titles_DF['rev_adj_zcore'] = zscore_list\n",
      "<ipython-input-11-9e425f3609ff>:8: SettingWithCopyWarning: \n",
      "A value is trying to be set on a copy of a slice from a DataFrame.\n",
      "Try using .loc[row_indexer,col_indexer] = value instead\n",
      "\n",
      "See the caveats in the documentation: https://pandas.pydata.org/pandas-docs/stable/user_guide/indexing.html#returning-a-view-versus-a-copy\n",
      "  Unique_Titles_DF['popularity_zcore'] = zscore_list\n"
     ]
    }
   ],
   "source": [
    "#Step 6: Outliers were removed for adjusted revenue. Any adjusted revenue to popularity over a z-score of three was deleted.\n",
    "#I did this in the DataFrame rather than the series created in the previous cell for ease of use. \n",
    "#I'll recreate the series in the next cell when I recreate a histogram to check my work.\n",
    "\n",
    "zscore_list = stats.zscore(Unique_Titles_DF['revenue_adj'], axis =0)\n",
    "Unique_Titles_DF['rev_adj_zcore'] = zscore_list\n",
    "zscore_list = stats.zscore(Unique_Titles_DF['popularity'], axis =0)\n",
    "Unique_Titles_DF['popularity_zcore'] = zscore_list\n",
    "print(Unique_Titles_DF.head(5))"
   ]
  },
  {
   "cell_type": "code",
   "execution_count": 12,
   "metadata": {},
   "outputs": [
    {
     "name": "stdout",
     "output_type": "stream",
     "text": [
      "        id    imdb_id  popularity     budget    revenue     original_title  \\\n",
      "33  296098  tt3682448    3.648210   40000000  162610473    Bridge of Spies   \n",
      "34  257445  tt1051904    3.644541   58000000  150170815         Goosebumps   \n",
      "35  264644  tt3170832    3.557846    6000000   35401758               Room   \n",
      "36  339527  tt1291570    3.358321          0   22354572             Solace   \n",
      "37  105864  tt1979388    3.339135  175000000  331926147  The Good Dinosaur   \n",
      "\n",
      "                                                 cast  \\\n",
      "33  Tom Hanks|Mark Rylance|Amy Ryan|Alan Alda|Seba...   \n",
      "34  Jack Black|Dylan Minnette|Odeya Rush|Amy Ryan|...   \n",
      "35  Brie Larson|Jacob Tremblay|Joan Allen|Sean Bri...   \n",
      "36  Abbie Cornish|Jeffrey Dean Morgan|Colin Farrel...   \n",
      "37  Raymond Ochoa|Jack Bright|Jeffrey Wright|Franc...   \n",
      "\n",
      "                                      homepage          director  \\\n",
      "33                                         NaN  Steven Spielberg   \n",
      "34            http://www.goosebumps-movie.com/     Rob Letterman   \n",
      "35                 http://www.roomthemovie.com  Lenny Abrahamson   \n",
      "36                                         NaN     Afonso Poyart   \n",
      "37  http://movies.disney.com/the-good-dinosaur        Peter Sohn   \n",
      "\n",
      "                                              tagline  ...  \\\n",
      "33  In the shadow of war, one man showed the world...  ...   \n",
      "34                             The stories are alive.  ...   \n",
      "35                           Love knows no boundaries  ...   \n",
      "36  A serial killer who can see your future, a psy...  ...   \n",
      "37                      Little Arms With Big Attitude  ...   \n",
      "\n",
      "                                       genres  \\\n",
      "33                             Thriller|Drama   \n",
      "34                    Adventure|Horror|Comedy   \n",
      "35                             Drama|Thriller   \n",
      "36                        Crime|Drama|Mystery   \n",
      "37  Adventure|Animation|Comedy|Family|Fantasy   \n",
      "\n",
      "                                 production_companies  release_date  \\\n",
      "33  DreamWorks SKG|Amblin Entertainment|Studio Bab...    10/15/2015   \n",
      "34  Columbia Pictures|Original Film|Scholastic Ent...      8/5/2015   \n",
      "35  Element Pictures|No Trace Camping|A24|Duperele...    10/16/2015   \n",
      "36  Eden Rock Media|FilmNation Entertainment|Flynn...      9/3/2015   \n",
      "37  Walt Disney Pictures|Pixar Animation Studios|B...    11/14/2015   \n",
      "\n",
      "   vote_count vote_average release_year    budget_adj   revenue_adj  \\\n",
      "33       1638          7.1         2015  3.679998e+07  1.496016e+08   \n",
      "34        600          6.2         2015  5.335998e+07  1.381571e+08   \n",
      "35       1520          8.0         2015  5.519998e+06  3.256960e+07   \n",
      "36        474          6.2         2015  0.000000e+00  2.056620e+07   \n",
      "37       1087          6.6         2015  1.609999e+08  3.053719e+08   \n",
      "\n",
      "    rev_adj_zcore  popularity_zcore  \n",
      "33       0.681287          2.977833  \n",
      "34       0.602074          2.974191  \n",
      "35      -0.128755          2.888143  \n",
      "36      -0.211837          2.690108  \n",
      "37       1.759458          2.671065  \n",
      "\n",
      "[5 rows x 23 columns]\n"
     ]
    },
    {
     "name": "stderr",
     "output_type": "stream",
     "text": [
      "C:\\Users\\jenni\\anaconda3\\lib\\site-packages\\pandas\\core\\frame.py:4163: SettingWithCopyWarning: \n",
      "A value is trying to be set on a copy of a slice from a DataFrame\n",
      "\n",
      "See the caveats in the documentation: https://pandas.pydata.org/pandas-docs/stable/user_guide/indexing.html#returning-a-view-versus-a-copy\n",
      "  return super().drop(\n",
      "C:\\Users\\jenni\\anaconda3\\lib\\site-packages\\pandas\\core\\frame.py:4163: SettingWithCopyWarning: \n",
      "A value is trying to be set on a copy of a slice from a DataFrame\n",
      "\n",
      "See the caveats in the documentation: https://pandas.pydata.org/pandas-docs/stable/user_guide/indexing.html#returning-a-view-versus-a-copy\n",
      "  return super().drop(\n"
     ]
    }
   ],
   "source": [
    "Unique_Titles_DF.drop(Unique_Titles_DF[Unique_Titles_DF['popularity_zcore'] > 3].index, inplace = True) \n",
    "Unique_Titles_DF.drop(Unique_Titles_DF[Unique_Titles_DF['rev_adj_zcore'] > 3].index, inplace = True)       \n",
    "print(Unique_Titles_DF.head(5)) #Check that outliers removed\n"
   ]
  },
  {
   "cell_type": "code",
   "execution_count": 14,
   "metadata": {},
   "outputs": [
    {
     "data": {
      "text/plain": [
       "Text(0.5, 1.0, 'Adjusted Revenue Histogram with Outliers Removed')"
      ]
     },
     "execution_count": 14,
     "metadata": {},
     "output_type": "execute_result"
    },
    {
     "data": {
      "image/png": "[encoded data removed]",
      "text/plain": [
       "<Figure size 432x288 with 1 Axes>"
      ]
     },
     "metadata": {
      "needs_background": "light"
     },
     "output_type": "display_data"
    }
   ],
   "source": [
    "#Step 7: I created histograms for the updated series for adjusted revenue and popularity, \n",
    "#which had the data removed, provide a snapshot of the distribution of data in order to double \n",
    "#check that outliers have been removed. \n",
    "rev_hist_data = pd.Series(Unique_Titles_DF['popularity'])\n",
    "rev_hist_data.hist(bins = 100, legend = True)\n",
    "plt.xlabel(\"Popularity\", fontsize= 15)\n",
    "plt.ylabel(\"Count\", fontsize= 15)\n",
    "plt.xlim([0.0, 4])\n",
    "plt.title(\"Adjusted Revenue Histogram with Outliers Removed\")\n"
   ]
  },
  {
   "cell_type": "markdown",
   "metadata": {},
   "source": [
    "This distribution looks more spread out, which means that I was successful in removing outliers to clean the data."
   ]
  },
  {
   "cell_type": "code",
   "execution_count": 15,
   "metadata": {},
   "outputs": [
    {
     "data": {
      "text/plain": [
       "Text(0.5, 1.0, 'Populartiy Histogram with Outliers Removed')"
      ]
     },
     "execution_count": 15,
     "metadata": {},
     "output_type": "execute_result"
    },
    {
     "data": {
      "image/png": "[encoded data removed]",
      "text/plain": [
       "<Figure size 432x288 with 1 Axes>"
      ]
     },
     "metadata": {
      "needs_background": "light"
     },
     "output_type": "display_data"
    }
   ],
   "source": [
    "#Step 4: A histogram was created for a series containing just adjusted revenue to see the distribution.\n",
    "rev_hist_data = pd.Series(Unique_Titles_DF['revenue_adj'])\n",
    "rev_hist_data.hist(bins = 100, legend = True)\n",
    "plt.xlabel(\"Adjusted Revenue in Billions\", fontsize= 15)\n",
    "plt.ylabel(\"Count\", fontsize= 15)\n",
    "plt.xlim([0.0, 0.4e9])\n",
    "plt.title(\"Populartiy Histogram with Outliers Removed\")"
   ]
  },
  {
   "cell_type": "markdown",
   "metadata": {},
   "source": [
    "Similar to the popularity histogram above, this distribution looks a little cleaner, meaning that removing the outliers was successful."
   ]
  },
  {
   "cell_type": "markdown",
   "metadata": {},
   "source": [
    "## Exploratory Data Analysis \n",
    "After cleaning the data I started to explore a few research questions. I noticed there's a lot of movies that have no revenue gained. Movie production companies would definitely want to invest in movies they think would turn a profit. The following research questions should help provide some insight on movies that might turn a profit. \n",
    "\n",
    "Question 1: What is the total count of films for each genre? This will help me identify the most common genres that are being produced. This will help me know what type of films movie production companies are making. Knowing this information may help movie production companies decide which types of movies to make.\n",
    "\n",
    "Question 2:  Which genres earned the most reveneue as a total? This will help me understand which genres make the most money. By comparing this data to the answer to Question 1, I can see if the most common films are the ones that make the most money. Knowing which genres tend to generate the most income will help in the process of deciding what types of movies a movie production company should make. \n",
    "\n",
    "Question 3: Which genre is the most popular? I thought it might be interesting to see if the most popular movies are also the most common or the ones that make the most revenue. This would provide a lot of insight into what types of movies people want to see, which would be helpful in the decision of what type of movie to make."
   ]
  },
  {
   "cell_type": "markdown",
   "metadata": {},
   "source": [
    "### Research Quesiton 1:\n",
    "What is the total count of films for each genre? Films with mulitple genres will have each of their genres count for the total number of each genre."
   ]
  },
  {
   "cell_type": "code",
   "execution_count": 16,
   "metadata": {},
   "outputs": [
    {
     "name": "stdout",
     "output_type": "stream",
     "text": [
      "Action             2313\n",
      "Adventure          1424\n",
      "Animation           688\n",
      "Comedy             3731\n",
      "Crime              1312\n",
      "Documentary         513\n",
      "Drama              4624\n",
      "Family             1191\n",
      "Fantasy             882\n",
      "Foreign             184\n",
      "History             326\n",
      "Horror             1558\n",
      "Music               397\n",
      "Mystery             766\n",
      "Romance            1662\n",
      "Science Fiction    1188\n",
      "TV Movie            162\n",
      "Thriller           2799\n",
      "War                 264\n",
      "Western             163\n",
      "dtype: int64\n"
     ]
    },
    {
     "data": {
      "image/png": "[encoded data removed]",
      "text/plain": [
       "<Figure size 432x288 with 1 Axes>"
      ]
     },
     "metadata": {
      "needs_background": "light"
     },
     "output_type": "display_data"
    }
   ],
   "source": [
    "#Research Quesiton 1\n",
    "#Use this cell to create 1D and 2D objects to explore\n",
    "\n",
    "df_genres= Unique_Titles_DF['genres'].str.get_dummies(sep= '|')\n",
    "\n",
    "def count_genre():\n",
    "    count_total = df_genres.sum(axis=0)\n",
    "    count_total.plot(kind='bar', xlabel = 'Genre', ylabel = 'Total Number of Films', title = 'Total Number of Films Per Genre')\n",
    "    return count_total\n",
    "df_count_genres = pd.DataFrame()\n",
    "df_count_genres = count_genre()\n",
    "\n",
    "print (df_count_genres)"
   ]
  },
  {
   "cell_type": "markdown",
   "metadata": {},
   "source": [
    "This bar chart shows that Drama, Comedy, Action, Thriller, Romance, and Horror are the top five types of films made in 2015. "
   ]
  },
  {
   "cell_type": "markdown",
   "metadata": {},
   "source": [
    "### Research Quesiton 2:\n",
    "Which genre earned the most revenue as a total?"
   ]
  },
  {
   "cell_type": "code",
   "execution_count": 21,
   "metadata": {},
   "outputs": [
    {
     "name": "stdout",
     "output_type": "stream",
     "text": [
      "             genres  total_revenue\n",
      "0            Action   1.065136e+11\n",
      "1         Adventure   8.002889e+10\n",
      "2         Animation   2.432267e+10\n",
      "3            Comedy   1.347449e+11\n",
      "4             Crime   5.634086e+10\n",
      "5       Documentary   1.071788e+09\n",
      "6             Drama   1.359488e+11\n",
      "7            Family   5.077277e+10\n",
      "8           Fantasy   4.282960e+10\n",
      "9           Foreign   3.354458e+08\n",
      "10          History   1.129373e+10\n",
      "11           Horror   2.787585e+10\n",
      "12            Music   1.271570e+10\n",
      "13          Mystery   2.997166e+10\n",
      "14          Romance   5.955229e+10\n",
      "15  Science Fiction   4.371637e+10\n",
      "16         TV Movie   5.838910e+07\n",
      "17         Thriller   9.999394e+10\n",
      "18              War   1.174251e+10\n",
      "19          Western   4.639823e+09\n"
     ]
    },
    {
     "data": {
      "image/png": "[encoded data removed]",
      "text/plain": [
       "<Figure size 432x288 with 1 Axes>"
      ]
     },
     "metadata": {
      "needs_background": "light"
     },
     "output_type": "display_data"
    }
   ],
   "source": [
    "df_tot_rev = pd.DataFrame()\n",
    "df_tot_rev['genres'] = df_genres.columns\n",
    "df_tot_rev['total_revenue'] = [Unique_Titles_DF[Unique_Titles_DF['genres'].str.contains(x, na=False)]['revenue_adj'].sum() for x in df_genres.columns]\n",
    "\n",
    "df_tot_rev.plot(kind = 'bar', x='genres', y='total_revenue', title = \"Total Revenue By Genre\", ylabel = 'Revenue *e^11', legend = True)\n",
    "\n",
    "print (df_tot_rev)"
   ]
  },
  {
   "cell_type": "markdown",
   "metadata": {},
   "source": [
    "According to the bar chart, the genres that made the top 5 most revenue are Drama, Comeday, Action, Thriller, Adventure, and Romance."
   ]
  },
  {
   "cell_type": "markdown",
   "metadata": {},
   "source": [
    "### Research Question 3:\n",
    "Which genre is the most popular?"
   ]
  },
  {
   "cell_type": "code",
   "execution_count": 22,
   "metadata": {},
   "outputs": [
    {
     "name": "stdout",
     "output_type": "stream",
     "text": [
      "             genres   popularity\n",
      "0            Action  1410.335360\n",
      "1         Adventure   915.659568\n",
      "2         Animation   421.908980\n",
      "3            Comedy  1961.164949\n",
      "4             Crime   837.977653\n",
      "5       Documentary    92.370925\n",
      "6             Drama  2405.935825\n",
      "7            Family   686.872837\n",
      "8           Fantasy   581.509783\n",
      "9           Foreign    34.844730\n",
      "10          History   165.138340\n",
      "11           Horror   677.989990\n",
      "12            Music   175.323502\n",
      "13          Mystery   455.952754\n",
      "14          Romance   912.043466\n",
      "15  Science Fiction   695.376963\n",
      "16         TV Movie    44.189771\n",
      "17         Thriller  1650.136731\n",
      "18              War   148.321087\n",
      "19          Western    72.245220\n"
     ]
    },
    {
     "data": {
      "image/png": "[encoded data removed]",
      "text/plain": [
       "<Figure size 432x288 with 1 Axes>"
      ]
     },
     "metadata": {
      "needs_background": "light"
     },
     "output_type": "display_data"
    }
   ],
   "source": [
    "df_tot_popularity = pd.DataFrame()\n",
    "df_tot_popularity['genres'] = df_genres.columns\n",
    "df_tot_popularity['popularity'] = [Unique_Titles_DF[Unique_Titles_DF['genres'].str.contains(x, na=False)]['popularity'].sum() for x in df_genres.columns]\n",
    "\n",
    "df_tot_popularity.plot(kind = 'bar', x='genres', y='popularity', title = \"Total Popularity By Genre\", ylabel = 'Popularity', legend = True)\n",
    "\n",
    "print (df_tot_popularity)"
   ]
  },
  {
   "cell_type": "markdown",
   "metadata": {},
   "source": [
    "The chart above indicates that Drama, Comedy, Triller, Action, and Adventure are the most popular films made. "
   ]
  },
  {
   "cell_type": "markdown",
   "metadata": {},
   "source": [
    "## Conclusions \n"
   ]
  },
  {
   "cell_type": "code",
   "execution_count": 18,
   "metadata": {},
   "outputs": [
    {
     "data": {
      "text/plain": [
       "<AxesSubplot:title={'center':'Total Revenue'}, xlabel='genres'>"
      ]
     },
     "execution_count": 18,
     "metadata": {},
     "output_type": "execute_result"
    },
    {
     "data": {
      "image/png": "[encoded data removed]",
      "text/plain": [
       "<Figure size 432x288 with 1 Axes>"
      ]
     },
     "metadata": {
      "needs_background": "light"
     },
     "output_type": "display_data"
    },
    {
     "data": {
      "image/png": "[encoded data removed]",
      "text/plain": [
       "<Figure size 432x288 with 1 Axes>"
      ]
     },
     "metadata": {
      "needs_background": "light"
     },
     "output_type": "display_data"
    }
   ],
   "source": [
    "df_genre_pop_rev = pd.DataFrame()\n",
    "df_genre_pop_rev['genres'] = df_genres.columns\n",
    "df_genre_pop_rev['total_revenue'] = [Unique_Titles_DF[Unique_Titles_DF['genres'].str.contains(x, na=False)]['revenue_adj'].sum() for x in df_genres.columns]\n",
    "df_genre_pop_rev['popularity'] = [Unique_Titles_DF[Unique_Titles_DF['genres'].str.contains(x, na=False)]['popularity'].sum() for x in df_genres.columns]\n",
    "\n",
    "df_genre_pop_rev.plot(kind = 'line', x='genres', y='popularity', title = \"Total Popularity\")\n",
    "df_genre_pop_rev.plot(kind = 'line', x='genres', y='total_revenue', title = \"Total Revenue\", color='red')\n"
   ]
  },
  {
   "cell_type": "markdown",
   "metadata": {},
   "source": [
    "Based on the data provided, and after analyzing the charts above, genre appears to widely vary in total popularity and total revenue earned. Action, Adventure, Dramas, Comdedies, and Thrillers were the most popular movies, and also had the most revenue in total. Interestingly, there were significantly fewer Action and Adventure movies produced compared to Comedies and Dramas, yet they were comparable in revenue. This information could be invaluable to movie production companies looking to determine which movies they should produce in upcoming years because it would provide them with a general idea of what genres make the most money, are the most common, and are the most popular. \n",
    "\n",
    "One prediction that could be made using this analysis is that Action, Adventure, Comedy, Drama, and/or Thirller movies in 2015 were likely to bring in higher revenue and be more popular than any other genre. Documentaries, Westerns, Foreign Films, and TV movies brought in significantly less money and were less likely to be popular in 2015. This data could be compared to data from other years to see if there is a trend where certain genres tend to bring in higher revenue, and then that data could be used to make informed choices about the types of movies a production company should persue in order to make higher profit margins.\n",
    "\n",
    "Due to the limited number of films included in the data set, and it's limitation to the year of 2015, solid predictions for the overall popularity of movies may not be fully understood. This dataset may be skewed due to the films that were produced that year, revenue may have been impacted by unkown economic or other extraneous variables, and popularity may not paint a perfect picture of how popular the movie was compared to movies of other years."
   ]
  }
 ],
 "metadata": {
  "kernelspec": {
   "display_name": "Python 3",
   "language": "python",
   "name": "python3"
  },
  "language_info": {
   "codemirror_mode": {
    "name": "ipython",
    "version": 3
   },
   "file_extension": ".py",
   "mimetype": "text/x-python",
   "name": "python",
   "nbconvert_exporter": "python",
   "pygments_lexer": "ipython3",
   "version": "3.8.5"
  }
 },
 "nbformat": 4,
 "nbformat_minor": 4
}
